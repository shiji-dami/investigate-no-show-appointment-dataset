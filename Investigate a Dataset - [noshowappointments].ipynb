{
 "cells": [
  {
   "cell_type": "markdown",
   "id": "51b4e2e5",
   "metadata": {},
   "source": [
    "# Project: Investigate a Dataset - [noshowappointments]"
   ]
  },
  {
   "cell_type": "markdown",
   "id": "29de9a1b",
   "metadata": {},
   "source": [
    "## INTRODUCTION"
   ]
  },
  {
   "cell_type": "markdown",
   "id": "f6aa3cfc",
   "metadata": {},
   "source": [
    "In this project, We will investigate the No_show_appointments dataset. This dataset collects data from over 100k medical appointments in Brazil and tends to focus on whether or not patients attend their appointments. This dataset consist of 14 characteristics which are explained below"
   ]
  },
  {
   "cell_type": "markdown",
   "id": "497e3214",
   "metadata": {},
   "source": [
    "- PatientId: Patient Identification number\n",
    "- AppointmentId: Appointment Identification number\n",
    "- Gender: Sex(Female or Male)\n",
    "- ScheduledDay: The day the patient is set up for an appointment\n",
    "- AppointmentDay: The day the patient visit the doctor\n",
    "- Age: How old is the patient\n",
    "- Neighbourhood: Location of the hospital\n",
    "- Scholarship: whether or not the patient is enrolled in Brasilian welfare program [Bosla Familia](https://en.wikipedia.org/wiki/Bolsa_Fam%C3%ADlia)\n",
    "- Hypertension: True or False\n",
    "- Diabetes: True or False\n",
    "- Alcoholism: True or False\n",
    "- Handicap: True or False\n",
    "- SMS_received: Whether or not the patient recieved sms(True or False)\n",
    "- No-show: Whether or not the patient attended the appointment"
   ]
  },
  {
   "cell_type": "markdown",
   "id": "b7f95f81",
   "metadata": {},
   "source": [
    "## QUESTIONS "
   ]
  },
  {
   "cell_type": "markdown",
   "id": "29298edc",
   "metadata": {},
   "source": [
    " - What is the age distribution of patients and which age group were mostly scheduled for an appointment?\n",
    " - How many percent of patients attended/missed their scheduled appointment?\n",
    " - what is the gender distribution for patients show/no_show patients?\n",
    " - which age group were attended their appointment\n",
    " - Did sms messages influence the patients showing up for their appointment?"
   ]
  },
  {
   "cell_type": "markdown",
   "id": "f2d0b184",
   "metadata": {},
   "source": [
    "## IMPORTING THE NECESSARY PYTHON LIBRARIES"
   ]
  },
  {
   "cell_type": "code",
   "execution_count": 1,
   "id": "22ea00b1",
   "metadata": {},
   "outputs": [],
   "source": [
    "import pandas as pd\n",
    "import numpy as np\n",
    "import matplotlib.pyplot as plt\n",
    "%matplotlib inline\n",
    "import seaborn as sns\n",
    "sns.set_style('darkgrid')"
   ]
  },
  {
   "cell_type": "markdown",
   "id": "35adac37",
   "metadata": {},
   "source": [
    "## **ACCESSING THE CSV FILE**"
   ]
  },
  {
   "cell_type": "code",
   "execution_count": 2,
   "id": "76a65fb5",
   "metadata": {},
   "outputs": [
    {
     "data": {
      "text/html": [
       "<div>\n",
       "<style scoped>\n",
       "    .dataframe tbody tr th:only-of-type {\n",
       "        vertical-align: middle;\n",
       "    }\n",
       "\n",
       "    .dataframe tbody tr th {\n",
       "        vertical-align: top;\n",
       "    }\n",
       "\n",
       "    .dataframe thead th {\n",
       "        text-align: right;\n",
       "    }\n",
       "</style>\n",
       "<table border=\"1\" class=\"dataframe\">\n",
       "  <thead>\n",
       "    <tr style=\"text-align: right;\">\n",
       "      <th></th>\n",
       "      <th>PatientId</th>\n",
       "      <th>AppointmentID</th>\n",
       "      <th>Gender</th>\n",
       "      <th>ScheduledDay</th>\n",
       "      <th>AppointmentDay</th>\n",
       "      <th>Age</th>\n",
       "      <th>Neighbourhood</th>\n",
       "      <th>Scholarship</th>\n",
       "      <th>Hipertension</th>\n",
       "      <th>Diabetes</th>\n",
       "      <th>Alcoholism</th>\n",
       "      <th>Handcap</th>\n",
       "      <th>SMS_received</th>\n",
       "      <th>No-show</th>\n",
       "    </tr>\n",
       "  </thead>\n",
       "  <tbody>\n",
       "    <tr>\n",
       "      <th>0</th>\n",
       "      <td>2.987250e+13</td>\n",
       "      <td>5642903</td>\n",
       "      <td>F</td>\n",
       "      <td>2016-04-29T18:38:08Z</td>\n",
       "      <td>2016-04-29T00:00:00Z</td>\n",
       "      <td>62</td>\n",
       "      <td>JARDIM DA PENHA</td>\n",
       "      <td>0</td>\n",
       "      <td>1</td>\n",
       "      <td>0</td>\n",
       "      <td>0</td>\n",
       "      <td>0</td>\n",
       "      <td>0</td>\n",
       "      <td>No</td>\n",
       "    </tr>\n",
       "    <tr>\n",
       "      <th>1</th>\n",
       "      <td>5.589978e+14</td>\n",
       "      <td>5642503</td>\n",
       "      <td>M</td>\n",
       "      <td>2016-04-29T16:08:27Z</td>\n",
       "      <td>2016-04-29T00:00:00Z</td>\n",
       "      <td>56</td>\n",
       "      <td>JARDIM DA PENHA</td>\n",
       "      <td>0</td>\n",
       "      <td>0</td>\n",
       "      <td>0</td>\n",
       "      <td>0</td>\n",
       "      <td>0</td>\n",
       "      <td>0</td>\n",
       "      <td>No</td>\n",
       "    </tr>\n",
       "    <tr>\n",
       "      <th>2</th>\n",
       "      <td>4.262962e+12</td>\n",
       "      <td>5642549</td>\n",
       "      <td>F</td>\n",
       "      <td>2016-04-29T16:19:04Z</td>\n",
       "      <td>2016-04-29T00:00:00Z</td>\n",
       "      <td>62</td>\n",
       "      <td>MATA DA PRAIA</td>\n",
       "      <td>0</td>\n",
       "      <td>0</td>\n",
       "      <td>0</td>\n",
       "      <td>0</td>\n",
       "      <td>0</td>\n",
       "      <td>0</td>\n",
       "      <td>No</td>\n",
       "    </tr>\n",
       "    <tr>\n",
       "      <th>3</th>\n",
       "      <td>8.679512e+11</td>\n",
       "      <td>5642828</td>\n",
       "      <td>F</td>\n",
       "      <td>2016-04-29T17:29:31Z</td>\n",
       "      <td>2016-04-29T00:00:00Z</td>\n",
       "      <td>8</td>\n",
       "      <td>PONTAL DE CAMBURI</td>\n",
       "      <td>0</td>\n",
       "      <td>0</td>\n",
       "      <td>0</td>\n",
       "      <td>0</td>\n",
       "      <td>0</td>\n",
       "      <td>0</td>\n",
       "      <td>No</td>\n",
       "    </tr>\n",
       "    <tr>\n",
       "      <th>4</th>\n",
       "      <td>8.841186e+12</td>\n",
       "      <td>5642494</td>\n",
       "      <td>F</td>\n",
       "      <td>2016-04-29T16:07:23Z</td>\n",
       "      <td>2016-04-29T00:00:00Z</td>\n",
       "      <td>56</td>\n",
       "      <td>JARDIM DA PENHA</td>\n",
       "      <td>0</td>\n",
       "      <td>1</td>\n",
       "      <td>1</td>\n",
       "      <td>0</td>\n",
       "      <td>0</td>\n",
       "      <td>0</td>\n",
       "      <td>No</td>\n",
       "    </tr>\n",
       "  </tbody>\n",
       "</table>\n",
       "</div>"
      ],
      "text/plain": [
       "      PatientId  AppointmentID Gender          ScheduledDay  \\\n",
       "0  2.987250e+13        5642903      F  2016-04-29T18:38:08Z   \n",
       "1  5.589978e+14        5642503      M  2016-04-29T16:08:27Z   \n",
       "2  4.262962e+12        5642549      F  2016-04-29T16:19:04Z   \n",
       "3  8.679512e+11        5642828      F  2016-04-29T17:29:31Z   \n",
       "4  8.841186e+12        5642494      F  2016-04-29T16:07:23Z   \n",
       "\n",
       "         AppointmentDay  Age      Neighbourhood  Scholarship  Hipertension  \\\n",
       "0  2016-04-29T00:00:00Z   62    JARDIM DA PENHA            0             1   \n",
       "1  2016-04-29T00:00:00Z   56    JARDIM DA PENHA            0             0   \n",
       "2  2016-04-29T00:00:00Z   62      MATA DA PRAIA            0             0   \n",
       "3  2016-04-29T00:00:00Z    8  PONTAL DE CAMBURI            0             0   \n",
       "4  2016-04-29T00:00:00Z   56    JARDIM DA PENHA            0             1   \n",
       "\n",
       "   Diabetes  Alcoholism  Handcap  SMS_received No-show  \n",
       "0         0           0        0             0      No  \n",
       "1         0           0        0             0      No  \n",
       "2         0           0        0             0      No  \n",
       "3         0           0        0             0      No  \n",
       "4         1           0        0             0      No  "
      ]
     },
     "execution_count": 2,
     "metadata": {},
     "output_type": "execute_result"
    }
   ],
   "source": [
    "no_show_a = pd.read_csv(r\"C:\\Users\\SHIJI\\ALX-T\\module_1_project\\noshowappointments-kagglev2-may-2016.csv\")\n",
    "no_show_a.head()"
   ]
  },
  {
   "cell_type": "code",
   "execution_count": 3,
   "id": "bbd79cc3",
   "metadata": {},
   "outputs": [
    {
     "data": {
      "text/plain": [
       "(110527, 14)"
      ]
     },
     "execution_count": 3,
     "metadata": {},
     "output_type": "execute_result"
    }
   ],
   "source": [
    "# to get the dimension of the dataset\n",
    "no_show_a.shape"
   ]
  },
  {
   "cell_type": "code",
   "execution_count": 4,
   "id": "85e65d7c",
   "metadata": {},
   "outputs": [
    {
     "name": "stdout",
     "output_type": "stream",
     "text": [
      "<class 'pandas.core.frame.DataFrame'>\n",
      "RangeIndex: 110527 entries, 0 to 110526\n",
      "Data columns (total 14 columns):\n",
      " #   Column          Non-Null Count   Dtype  \n",
      "---  ------          --------------   -----  \n",
      " 0   PatientId       110527 non-null  float64\n",
      " 1   AppointmentID   110527 non-null  int64  \n",
      " 2   Gender          110527 non-null  object \n",
      " 3   ScheduledDay    110527 non-null  object \n",
      " 4   AppointmentDay  110527 non-null  object \n",
      " 5   Age             110527 non-null  int64  \n",
      " 6   Neighbourhood   110527 non-null  object \n",
      " 7   Scholarship     110527 non-null  int64  \n",
      " 8   Hipertension    110527 non-null  int64  \n",
      " 9   Diabetes        110527 non-null  int64  \n",
      " 10  Alcoholism      110527 non-null  int64  \n",
      " 11  Handcap         110527 non-null  int64  \n",
      " 12  SMS_received    110527 non-null  int64  \n",
      " 13  No-show         110527 non-null  object \n",
      "dtypes: float64(1), int64(8), object(5)\n",
      "memory usage: 11.8+ MB\n"
     ]
    }
   ],
   "source": [
    "# to get further information on the dataset\n",
    "no_show_a.info()"
   ]
  },
  {
   "cell_type": "code",
   "execution_count": 5,
   "id": "fecb4662",
   "metadata": {},
   "outputs": [
    {
     "data": {
      "text/plain": [
       "0"
      ]
     },
     "execution_count": 5,
     "metadata": {},
     "output_type": "execute_result"
    }
   ],
   "source": [
    "#let's confirm if there are duplicate values\n",
    "sum(no_show_a.duplicated())"
   ]
  },
  {
   "cell_type": "code",
   "execution_count": 6,
   "id": "3b9c491e",
   "metadata": {},
   "outputs": [
    {
     "data": {
      "text/html": [
       "<div>\n",
       "<style scoped>\n",
       "    .dataframe tbody tr th:only-of-type {\n",
       "        vertical-align: middle;\n",
       "    }\n",
       "\n",
       "    .dataframe tbody tr th {\n",
       "        vertical-align: top;\n",
       "    }\n",
       "\n",
       "    .dataframe thead th {\n",
       "        text-align: right;\n",
       "    }\n",
       "</style>\n",
       "<table border=\"1\" class=\"dataframe\">\n",
       "  <thead>\n",
       "    <tr style=\"text-align: right;\">\n",
       "      <th></th>\n",
       "      <th>PatientId</th>\n",
       "      <th>AppointmentID</th>\n",
       "      <th>Age</th>\n",
       "      <th>Scholarship</th>\n",
       "      <th>Hipertension</th>\n",
       "      <th>Diabetes</th>\n",
       "      <th>Alcoholism</th>\n",
       "      <th>Handcap</th>\n",
       "      <th>SMS_received</th>\n",
       "    </tr>\n",
       "  </thead>\n",
       "  <tbody>\n",
       "    <tr>\n",
       "      <th>count</th>\n",
       "      <td>1.105270e+05</td>\n",
       "      <td>1.105270e+05</td>\n",
       "      <td>110527.000000</td>\n",
       "      <td>110527.000000</td>\n",
       "      <td>110527.000000</td>\n",
       "      <td>110527.000000</td>\n",
       "      <td>110527.000000</td>\n",
       "      <td>110527.000000</td>\n",
       "      <td>110527.000000</td>\n",
       "    </tr>\n",
       "    <tr>\n",
       "      <th>mean</th>\n",
       "      <td>1.474963e+14</td>\n",
       "      <td>5.675305e+06</td>\n",
       "      <td>37.088874</td>\n",
       "      <td>0.098266</td>\n",
       "      <td>0.197246</td>\n",
       "      <td>0.071865</td>\n",
       "      <td>0.030400</td>\n",
       "      <td>0.022248</td>\n",
       "      <td>0.321026</td>\n",
       "    </tr>\n",
       "    <tr>\n",
       "      <th>std</th>\n",
       "      <td>2.560949e+14</td>\n",
       "      <td>7.129575e+04</td>\n",
       "      <td>23.110205</td>\n",
       "      <td>0.297675</td>\n",
       "      <td>0.397921</td>\n",
       "      <td>0.258265</td>\n",
       "      <td>0.171686</td>\n",
       "      <td>0.161543</td>\n",
       "      <td>0.466873</td>\n",
       "    </tr>\n",
       "    <tr>\n",
       "      <th>min</th>\n",
       "      <td>3.921784e+04</td>\n",
       "      <td>5.030230e+06</td>\n",
       "      <td>-1.000000</td>\n",
       "      <td>0.000000</td>\n",
       "      <td>0.000000</td>\n",
       "      <td>0.000000</td>\n",
       "      <td>0.000000</td>\n",
       "      <td>0.000000</td>\n",
       "      <td>0.000000</td>\n",
       "    </tr>\n",
       "    <tr>\n",
       "      <th>25%</th>\n",
       "      <td>4.172614e+12</td>\n",
       "      <td>5.640286e+06</td>\n",
       "      <td>18.000000</td>\n",
       "      <td>0.000000</td>\n",
       "      <td>0.000000</td>\n",
       "      <td>0.000000</td>\n",
       "      <td>0.000000</td>\n",
       "      <td>0.000000</td>\n",
       "      <td>0.000000</td>\n",
       "    </tr>\n",
       "    <tr>\n",
       "      <th>50%</th>\n",
       "      <td>3.173184e+13</td>\n",
       "      <td>5.680573e+06</td>\n",
       "      <td>37.000000</td>\n",
       "      <td>0.000000</td>\n",
       "      <td>0.000000</td>\n",
       "      <td>0.000000</td>\n",
       "      <td>0.000000</td>\n",
       "      <td>0.000000</td>\n",
       "      <td>0.000000</td>\n",
       "    </tr>\n",
       "    <tr>\n",
       "      <th>75%</th>\n",
       "      <td>9.439172e+13</td>\n",
       "      <td>5.725524e+06</td>\n",
       "      <td>55.000000</td>\n",
       "      <td>0.000000</td>\n",
       "      <td>0.000000</td>\n",
       "      <td>0.000000</td>\n",
       "      <td>0.000000</td>\n",
       "      <td>0.000000</td>\n",
       "      <td>1.000000</td>\n",
       "    </tr>\n",
       "    <tr>\n",
       "      <th>max</th>\n",
       "      <td>9.999816e+14</td>\n",
       "      <td>5.790484e+06</td>\n",
       "      <td>115.000000</td>\n",
       "      <td>1.000000</td>\n",
       "      <td>1.000000</td>\n",
       "      <td>1.000000</td>\n",
       "      <td>1.000000</td>\n",
       "      <td>4.000000</td>\n",
       "      <td>1.000000</td>\n",
       "    </tr>\n",
       "  </tbody>\n",
       "</table>\n",
       "</div>"
      ],
      "text/plain": [
       "          PatientId  AppointmentID            Age    Scholarship  \\\n",
       "count  1.105270e+05   1.105270e+05  110527.000000  110527.000000   \n",
       "mean   1.474963e+14   5.675305e+06      37.088874       0.098266   \n",
       "std    2.560949e+14   7.129575e+04      23.110205       0.297675   \n",
       "min    3.921784e+04   5.030230e+06      -1.000000       0.000000   \n",
       "25%    4.172614e+12   5.640286e+06      18.000000       0.000000   \n",
       "50%    3.173184e+13   5.680573e+06      37.000000       0.000000   \n",
       "75%    9.439172e+13   5.725524e+06      55.000000       0.000000   \n",
       "max    9.999816e+14   5.790484e+06     115.000000       1.000000   \n",
       "\n",
       "        Hipertension       Diabetes     Alcoholism        Handcap  \\\n",
       "count  110527.000000  110527.000000  110527.000000  110527.000000   \n",
       "mean        0.197246       0.071865       0.030400       0.022248   \n",
       "std         0.397921       0.258265       0.171686       0.161543   \n",
       "min         0.000000       0.000000       0.000000       0.000000   \n",
       "25%         0.000000       0.000000       0.000000       0.000000   \n",
       "50%         0.000000       0.000000       0.000000       0.000000   \n",
       "75%         0.000000       0.000000       0.000000       0.000000   \n",
       "max         1.000000       1.000000       1.000000       4.000000   \n",
       "\n",
       "        SMS_received  \n",
       "count  110527.000000  \n",
       "mean        0.321026  \n",
       "std         0.466873  \n",
       "min         0.000000  \n",
       "25%         0.000000  \n",
       "50%         0.000000  \n",
       "75%         1.000000  \n",
       "max         1.000000  "
      ]
     },
     "execution_count": 6,
     "metadata": {},
     "output_type": "execute_result"
    }
   ],
   "source": [
    "# to get statistical information on the dataset\n",
    "no_show_a.describe()"
   ]
  },
  {
   "cell_type": "code",
   "execution_count": 7,
   "id": "05f12c57",
   "metadata": {},
   "outputs": [
    {
     "data": {
      "text/plain": [
       " 0      3539\n",
       " 1      2273\n",
       " 52     1746\n",
       " 49     1652\n",
       " 53     1651\n",
       "        ... \n",
       " 115       5\n",
       " 100       4\n",
       " 102       2\n",
       " 99        1\n",
       "-1         1\n",
       "Name: Age, Length: 104, dtype: int64"
      ]
     },
     "execution_count": 7,
     "metadata": {},
     "output_type": "execute_result"
    }
   ],
   "source": [
    "# to get the count of unique value in the age column\n",
    "\n",
    "no_show_a['Age'].value_counts()"
   ]
  },
  {
   "cell_type": "code",
   "execution_count": 8,
   "id": "d63a43bb",
   "metadata": {},
   "outputs": [
    {
     "data": {
      "image/png": "[encoded data removed]",
      "text/plain": [
       "<Figure size 864x864 with 9 Axes>"
      ]
     },
     "metadata": {},
     "output_type": "display_data"
    }
   ],
   "source": [
    "no_show_a.hist(figsize = (12,12));"
   ]
  },
  {
   "cell_type": "markdown",
   "id": "3163344b",
   "metadata": {},
   "source": [
    "After wrangling, I noticed that:  \n",
    "* there are no duplicate values and there are not null values,\n",
    "* the datatype of some column's needs to be changed,\n",
    "- some of the column's name needs to be changed such as (hipertension, no-show),\n",
    "- there is an age of -1 which is assumed to be an error."
   ]
  },
  {
   "cell_type": "markdown",
   "id": "10a4795a",
   "metadata": {},
   "source": [
    "## **CLEANING THE DATA**"
   ]
  },
  {
   "cell_type": "code",
   "execution_count": 9,
   "id": "94cb369d",
   "metadata": {},
   "outputs": [],
   "source": [
    "#removing the scientific notation in the patientid column\n",
    "pd.set_option('display.float_format', lambda x: '%.0f' % x)"
   ]
  },
  {
   "cell_type": "code",
   "execution_count": 10,
   "id": "63d97ca8",
   "metadata": {},
   "outputs": [],
   "source": [
    "#renaming the 'PatientId','AppointmentID','ScheduledDay','AppointmentDay','Hypertension','No-show' columns\n",
    "column_indices = [0,1,3,4,8,11,13]\n",
    "new_names = ['Patient_Id','Appointment_ID','Scheduled_Day','Appointment_Day','Hypertension', 'handicap', 'No_show']\n",
    "old_names = no_show_a.columns[column_indices]\n",
    "no_show_a.rename(columns=dict(zip(old_names, new_names)),inplace = True)"
   ]
  },
  {
   "cell_type": "code",
   "execution_count": 11,
   "id": "4c753fe1",
   "metadata": {},
   "outputs": [],
   "source": [
    "#lets change all columns name to lower case\n",
    "\n",
    "no_show_a.rename(columns=lambda x: x.strip().lower(), inplace = True)"
   ]
  },
  {
   "cell_type": "code",
   "execution_count": 12,
   "id": "bc963a9b",
   "metadata": {},
   "outputs": [],
   "source": [
    "#change the scheduled_day and appointment_day datatype\n",
    "\n",
    "no_show_a[['appointment_day','scheduled_day']] = no_show_a[['appointment_day','scheduled_day']].apply(pd.to_datetime, errors='coerce')"
   ]
  },
  {
   "cell_type": "code",
   "execution_count": 13,
   "id": "209594b8",
   "metadata": {},
   "outputs": [],
   "source": [
    "#change the patient_id and appointment_id datatype to integer\n",
    "\n",
    "for b in ['patient_id', 'appointment_id']:\n",
    "    no_show_a[b] = no_show_a[b].astype(int)"
   ]
  },
  {
   "cell_type": "code",
   "execution_count": 14,
   "id": "2133f400",
   "metadata": {},
   "outputs": [],
   "source": [
    "#change the scholarship, hypertension, diabetes,alcoholism, handicap, sms_received datatype to boolean\n",
    "\n",
    "for b in ['scholarship','hypertension','diabetes','alcoholism','handicap','sms_received']:\n",
    "    no_show_a[b] = no_show_a[b].astype(bool)"
   ]
  },
  {
   "cell_type": "code",
   "execution_count": 15,
   "id": "e213145b",
   "metadata": {},
   "outputs": [],
   "source": [
    "#change the gender datatype to category\n",
    "\n",
    "no_show_a['gender'] = no_show_a['gender'].astype('category')"
   ]
  },
  {
   "cell_type": "code",
   "execution_count": 16,
   "id": "5a8bbcb9",
   "metadata": {},
   "outputs": [],
   "source": [
    "#removing the age -1 from the dataframe\n",
    "no_show_a.drop(no_show_a[no_show_a.age < 0].index, inplace=True)"
   ]
  },
  {
   "cell_type": "code",
   "execution_count": 17,
   "id": "4f8daf06",
   "metadata": {},
   "outputs": [
    {
     "data": {
      "text/html": [
       "<div>\n",
       "<style scoped>\n",
       "    .dataframe tbody tr th:only-of-type {\n",
       "        vertical-align: middle;\n",
       "    }\n",
       "\n",
       "    .dataframe tbody tr th {\n",
       "        vertical-align: top;\n",
       "    }\n",
       "\n",
       "    .dataframe thead th {\n",
       "        text-align: right;\n",
       "    }\n",
       "</style>\n",
       "<table border=\"1\" class=\"dataframe\">\n",
       "  <thead>\n",
       "    <tr style=\"text-align: right;\">\n",
       "      <th></th>\n",
       "      <th>patient_id</th>\n",
       "      <th>appointment_id</th>\n",
       "      <th>gender</th>\n",
       "      <th>scheduled_day</th>\n",
       "      <th>appointment_day</th>\n",
       "      <th>age</th>\n",
       "      <th>neighbourhood</th>\n",
       "      <th>scholarship</th>\n",
       "      <th>hypertension</th>\n",
       "      <th>diabetes</th>\n",
       "      <th>alcoholism</th>\n",
       "      <th>handicap</th>\n",
       "      <th>sms_received</th>\n",
       "      <th>no_show</th>\n",
       "    </tr>\n",
       "  </thead>\n",
       "  <tbody>\n",
       "    <tr>\n",
       "      <th>0</th>\n",
       "      <td>-2147483648</td>\n",
       "      <td>5642903</td>\n",
       "      <td>F</td>\n",
       "      <td>2016-04-29 18:38:08+00:00</td>\n",
       "      <td>2016-04-29 00:00:00+00:00</td>\n",
       "      <td>62</td>\n",
       "      <td>JARDIM DA PENHA</td>\n",
       "      <td>False</td>\n",
       "      <td>True</td>\n",
       "      <td>False</td>\n",
       "      <td>False</td>\n",
       "      <td>False</td>\n",
       "      <td>False</td>\n",
       "      <td>No</td>\n",
       "    </tr>\n",
       "    <tr>\n",
       "      <th>1</th>\n",
       "      <td>-2147483648</td>\n",
       "      <td>5642503</td>\n",
       "      <td>M</td>\n",
       "      <td>2016-04-29 16:08:27+00:00</td>\n",
       "      <td>2016-04-29 00:00:00+00:00</td>\n",
       "      <td>56</td>\n",
       "      <td>JARDIM DA PENHA</td>\n",
       "      <td>False</td>\n",
       "      <td>False</td>\n",
       "      <td>False</td>\n",
       "      <td>False</td>\n",
       "      <td>False</td>\n",
       "      <td>False</td>\n",
       "      <td>No</td>\n",
       "    </tr>\n",
       "    <tr>\n",
       "      <th>2</th>\n",
       "      <td>-2147483648</td>\n",
       "      <td>5642549</td>\n",
       "      <td>F</td>\n",
       "      <td>2016-04-29 16:19:04+00:00</td>\n",
       "      <td>2016-04-29 00:00:00+00:00</td>\n",
       "      <td>62</td>\n",
       "      <td>MATA DA PRAIA</td>\n",
       "      <td>False</td>\n",
       "      <td>False</td>\n",
       "      <td>False</td>\n",
       "      <td>False</td>\n",
       "      <td>False</td>\n",
       "      <td>False</td>\n",
       "      <td>No</td>\n",
       "    </tr>\n",
       "    <tr>\n",
       "      <th>3</th>\n",
       "      <td>-2147483648</td>\n",
       "      <td>5642828</td>\n",
       "      <td>F</td>\n",
       "      <td>2016-04-29 17:29:31+00:00</td>\n",
       "      <td>2016-04-29 00:00:00+00:00</td>\n",
       "      <td>8</td>\n",
       "      <td>PONTAL DE CAMBURI</td>\n",
       "      <td>False</td>\n",
       "      <td>False</td>\n",
       "      <td>False</td>\n",
       "      <td>False</td>\n",
       "      <td>False</td>\n",
       "      <td>False</td>\n",
       "      <td>No</td>\n",
       "    </tr>\n",
       "    <tr>\n",
       "      <th>4</th>\n",
       "      <td>-2147483648</td>\n",
       "      <td>5642494</td>\n",
       "      <td>F</td>\n",
       "      <td>2016-04-29 16:07:23+00:00</td>\n",
       "      <td>2016-04-29 00:00:00+00:00</td>\n",
       "      <td>56</td>\n",
       "      <td>JARDIM DA PENHA</td>\n",
       "      <td>False</td>\n",
       "      <td>True</td>\n",
       "      <td>True</td>\n",
       "      <td>False</td>\n",
       "      <td>False</td>\n",
       "      <td>False</td>\n",
       "      <td>No</td>\n",
       "    </tr>\n",
       "  </tbody>\n",
       "</table>\n",
       "</div>"
      ],
      "text/plain": [
       "   patient_id  appointment_id gender             scheduled_day  \\\n",
       "0 -2147483648         5642903      F 2016-04-29 18:38:08+00:00   \n",
       "1 -2147483648         5642503      M 2016-04-29 16:08:27+00:00   \n",
       "2 -2147483648         5642549      F 2016-04-29 16:19:04+00:00   \n",
       "3 -2147483648         5642828      F 2016-04-29 17:29:31+00:00   \n",
       "4 -2147483648         5642494      F 2016-04-29 16:07:23+00:00   \n",
       "\n",
       "            appointment_day  age      neighbourhood  scholarship  \\\n",
       "0 2016-04-29 00:00:00+00:00   62    JARDIM DA PENHA        False   \n",
       "1 2016-04-29 00:00:00+00:00   56    JARDIM DA PENHA        False   \n",
       "2 2016-04-29 00:00:00+00:00   62      MATA DA PRAIA        False   \n",
       "3 2016-04-29 00:00:00+00:00    8  PONTAL DE CAMBURI        False   \n",
       "4 2016-04-29 00:00:00+00:00   56    JARDIM DA PENHA        False   \n",
       "\n",
       "   hypertension  diabetes  alcoholism  handicap  sms_received no_show  \n",
       "0          True     False       False     False         False      No  \n",
       "1         False     False       False     False         False      No  \n",
       "2         False     False       False     False         False      No  \n",
       "3         False     False       False     False         False      No  \n",
       "4          True      True       False     False         False      No  "
      ]
     },
     "execution_count": 17,
     "metadata": {},
     "output_type": "execute_result"
    }
   ],
   "source": [
    "no_show_a.head()"
   ]
  },
  {
   "cell_type": "code",
   "execution_count": 18,
   "id": "a500322a",
   "metadata": {},
   "outputs": [
    {
     "name": "stdout",
     "output_type": "stream",
     "text": [
      "<class 'pandas.core.frame.DataFrame'>\n",
      "Int64Index: 110526 entries, 0 to 110526\n",
      "Data columns (total 14 columns):\n",
      " #   Column           Non-Null Count   Dtype              \n",
      "---  ------           --------------   -----              \n",
      " 0   patient_id       110526 non-null  int32              \n",
      " 1   appointment_id   110526 non-null  int32              \n",
      " 2   gender           110526 non-null  category           \n",
      " 3   scheduled_day    110526 non-null  datetime64[ns, UTC]\n",
      " 4   appointment_day  110526 non-null  datetime64[ns, UTC]\n",
      " 5   age              110526 non-null  int64              \n",
      " 6   neighbourhood    110526 non-null  object             \n",
      " 7   scholarship      110526 non-null  bool               \n",
      " 8   hypertension     110526 non-null  bool               \n",
      " 9   diabetes         110526 non-null  bool               \n",
      " 10  alcoholism       110526 non-null  bool               \n",
      " 11  handicap         110526 non-null  bool               \n",
      " 12  sms_received     110526 non-null  bool               \n",
      " 13  no_show          110526 non-null  object             \n",
      "dtypes: bool(6), category(1), datetime64[ns, UTC](2), int32(2), int64(1), object(2)\n",
      "memory usage: 6.6+ MB\n"
     ]
    }
   ],
   "source": [
    "#to confirm our changes\n",
    "\n",
    "no_show_a.info()"
   ]
  },
  {
   "cell_type": "markdown",
   "id": "450d1e42",
   "metadata": {},
   "source": [
    "## EXPLORATORY DATA ANALYSIS"
   ]
  },
  {
   "cell_type": "code",
   "execution_count": 19,
   "id": "925aa093",
   "metadata": {},
   "outputs": [
    {
     "data": {
      "text/html": [
       "<div>\n",
       "<style scoped>\n",
       "    .dataframe tbody tr th:only-of-type {\n",
       "        vertical-align: middle;\n",
       "    }\n",
       "\n",
       "    .dataframe tbody tr th {\n",
       "        vertical-align: top;\n",
       "    }\n",
       "\n",
       "    .dataframe thead th {\n",
       "        text-align: right;\n",
       "    }\n",
       "</style>\n",
       "<table border=\"1\" class=\"dataframe\">\n",
       "  <thead>\n",
       "    <tr style=\"text-align: right;\">\n",
       "      <th></th>\n",
       "      <th>patient_id</th>\n",
       "      <th>appointment_id</th>\n",
       "      <th>age</th>\n",
       "    </tr>\n",
       "  </thead>\n",
       "  <tbody>\n",
       "    <tr>\n",
       "      <th>count</th>\n",
       "      <td>110526</td>\n",
       "      <td>110526</td>\n",
       "      <td>110526</td>\n",
       "    </tr>\n",
       "    <tr>\n",
       "      <th>mean</th>\n",
       "      <td>-2140311086</td>\n",
       "      <td>5675304</td>\n",
       "      <td>37</td>\n",
       "    </tr>\n",
       "    <tr>\n",
       "      <th>std</th>\n",
       "      <td>150849237</td>\n",
       "      <td>71295</td>\n",
       "      <td>23</td>\n",
       "    </tr>\n",
       "    <tr>\n",
       "      <th>min</th>\n",
       "      <td>-2147483648</td>\n",
       "      <td>5030230</td>\n",
       "      <td>0</td>\n",
       "    </tr>\n",
       "    <tr>\n",
       "      <th>25%</th>\n",
       "      <td>-2147483648</td>\n",
       "      <td>5640285</td>\n",
       "      <td>18</td>\n",
       "    </tr>\n",
       "    <tr>\n",
       "      <th>50%</th>\n",
       "      <td>-2147483648</td>\n",
       "      <td>5680572</td>\n",
       "      <td>37</td>\n",
       "    </tr>\n",
       "    <tr>\n",
       "      <th>75%</th>\n",
       "      <td>-2147483648</td>\n",
       "      <td>5725523</td>\n",
       "      <td>55</td>\n",
       "    </tr>\n",
       "    <tr>\n",
       "      <th>max</th>\n",
       "      <td>2141273554</td>\n",
       "      <td>5790484</td>\n",
       "      <td>115</td>\n",
       "    </tr>\n",
       "  </tbody>\n",
       "</table>\n",
       "</div>"
      ],
      "text/plain": [
       "       patient_id  appointment_id    age\n",
       "count      110526          110526 110526\n",
       "mean  -2140311086         5675304     37\n",
       "std     150849237           71295     23\n",
       "min   -2147483648         5030230      0\n",
       "25%   -2147483648         5640285     18\n",
       "50%   -2147483648         5680572     37\n",
       "75%   -2147483648         5725523     55\n",
       "max    2141273554         5790484    115"
      ]
     },
     "execution_count": 19,
     "metadata": {},
     "output_type": "execute_result"
    }
   ],
   "source": [
    "no_show_a.describe()"
   ]
  },
  {
   "cell_type": "code",
   "execution_count": 20,
   "id": "983c3e7f",
   "metadata": {},
   "outputs": [
    {
     "data": {
      "text/plain": [
       "F    71839\n",
       "M    38687\n",
       "Name: gender, dtype: int64"
      ]
     },
     "execution_count": 20,
     "metadata": {},
     "output_type": "execute_result"
    }
   ],
   "source": [
    "# to get the count of unique value in the gender column\n",
    "\n",
    "no_show_a['gender'].value_counts()"
   ]
  },
  {
   "cell_type": "code",
   "execution_count": 21,
   "id": "dd225516",
   "metadata": {},
   "outputs": [
    {
     "data": {
      "text/plain": [
       "0     3539\n",
       "1     2273\n",
       "52    1746\n",
       "49    1652\n",
       "53    1651\n",
       "Name: age, dtype: int64"
      ]
     },
     "execution_count": 21,
     "metadata": {},
     "output_type": "execute_result"
    }
   ],
   "source": [
    "# to get the top count of unique value in the age column\n",
    "\n",
    "no_show_a['age'].value_counts().head()"
   ]
  },
  {
   "cell_type": "code",
   "execution_count": 22,
   "id": "eb2dae53",
   "metadata": {},
   "outputs": [
    {
     "data": {
      "text/plain": [
       "Text(0, 0.5, 'appointment count')"
      ]
     },
     "execution_count": 22,
     "metadata": {},
     "output_type": "execute_result"
    },
    {
     "data": {
      "image/png": "[encoded data removed]",
      "text/plain": [
       "<Figure size 432x288 with 1 Axes>"
      ]
     },
     "metadata": {},
     "output_type": "display_data"
    }
   ],
   "source": [
    "no_show_a['age'].plot(kind = 'hist', title = 'age group for total appointment')\n",
    "plt.xlabel('age', fontsize=10)\n",
    "plt.ylabel('appointment count', fontsize=10)"
   ]
  },
  {
   "cell_type": "markdown",
   "id": "b4cbec5f",
   "metadata": {},
   "source": [
    "From here we can see that ages 0-1 which are babies were most scheduled for an appointment while the erderly were less scheduled for an appointment"
   ]
  },
  {
   "cell_type": "code",
   "execution_count": 23,
   "id": "50edc129",
   "metadata": {},
   "outputs": [
    {
     "data": {
      "image/png": "[encoded data removed]",
      "text/plain": [
       "<Figure size 432x288 with 1 Axes>"
      ]
     },
     "metadata": {},
     "output_type": "display_data"
    }
   ],
   "source": [
    "age_dist = sns.boxplot(data = no_show_a, x = 'gender', y = 'age', palette=['r', 'w'])\n",
    "age_dist.set(xlabel= 'gender', ylabel='Age distribution', title='Age distribution by gender')\n",
    "plt.show()"
   ]
  },
  {
   "cell_type": "markdown",
   "id": "43ea2bd5",
   "metadata": {},
   "source": [
    "We can see that over 50% of our dataset consist of females with wider age distribution and there are some outliers in the female section"
   ]
  },
  {
   "cell_type": "code",
   "execution_count": 24,
   "id": "92072fdd",
   "metadata": {},
   "outputs": [
    {
     "data": {
      "image/png": "[encoded data removed]",
      "text/plain": [
       "<Figure size 432x288 with 1 Axes>"
      ]
     },
     "metadata": {},
     "output_type": "display_data"
    }
   ],
   "source": [
    "ax = sns.countplot(x ='gender', hue = \"no_show\",palette=['r', 'w'], data = no_show_a)\n",
    "ax.set_title('gender distribution for show/no_show appointment');"
   ]
  },
  {
   "cell_type": "markdown",
   "id": "3067f135",
   "metadata": {},
   "source": [
    "From the bar chart, we can see that the number of female who attended the appointment are more the the male. We cannot conclude with the chart because form the dataset, we have more females than males. To get the final conclusion, we have to do a proportion of gender who show/ no_show over the total gender in the dataset."
   ]
  },
  {
   "cell_type": "code",
   "execution_count": 25,
   "id": "47c714a1",
   "metadata": {},
   "outputs": [
    {
     "data": {
      "image/png": "[encoded data removed]",
      "text/plain": [
       "<Figure size 432x288 with 1 Axes>"
      ]
     },
     "metadata": {},
     "output_type": "display_data"
    }
   ],
   "source": [
    "count_gender = no_show_a.groupby(['gender', 'no_show'])['appointment_id'].count()\n",
    "total_gender = no_show_a.groupby(['gender'])['appointment_id'].count()\n",
    "colors = ['red','white']\n",
    "proportions = count_gender / total_gender\n",
    "proportions.plot(kind='bar', title='Proportion of gender distribution for show/no_show appointment', color=colors, alpha=.7);\n",
    "plt.xlabel('Gender', fontsize=12)\n",
    "plt.ylabel('Proportion', fontsize=12);"
   ]
  },
  {
   "cell_type": "markdown",
   "id": "5e1ee69e",
   "metadata": {},
   "source": [
    "This chart is showing the proprtion of female and male who show/no_show for the appointment. From this chart, we can conclude that equal number of female and male didn't miss the appoinment"
   ]
  },
  {
   "cell_type": "code",
   "execution_count": 26,
   "id": "e5343a36",
   "metadata": {},
   "outputs": [],
   "source": [
    "no_show_up = no_show_a.query(\"no_show == 'Yes'\")"
   ]
  },
  {
   "cell_type": "code",
   "execution_count": 27,
   "id": "a473b92b",
   "metadata": {},
   "outputs": [],
   "source": [
    "show_up = no_show_a.query(\"no_show == 'No'\")"
   ]
  },
  {
   "cell_type": "code",
   "execution_count": 28,
   "id": "c5c2b627",
   "metadata": {},
   "outputs": [],
   "source": [
    "missed = int(round(len(no_show_up) / len(no_show_a) * 100))"
   ]
  },
  {
   "cell_type": "code",
   "execution_count": 29,
   "id": "b2e4d4d6",
   "metadata": {},
   "outputs": [],
   "source": [
    "not_missed = int(round(len(show_up) / len(no_show_a) * 100))"
   ]
  },
  {
   "cell_type": "code",
   "execution_count": 30,
   "id": "4df568a7",
   "metadata": {},
   "outputs": [],
   "source": [
    "def plots(x,y):\n",
    "    no_show_a.groupby([x])['appointment_id'].count().plot(kind = y)\n",
    "    plt.title((\"Patient per \" + x))\n",
    "    plt.xlabel(x)\n",
    "    plt.ylabel('appointment count')\n",
    "    z = no_show_a.groupby([x])['appointment_id'].count()\n",
    "    print(z)"
   ]
  },
  {
   "cell_type": "code",
   "execution_count": 31,
   "id": "19000e7d",
   "metadata": {},
   "outputs": [
    {
     "name": "stdout",
     "output_type": "stream",
     "text": [
      "no_show\n",
      "No     88207\n",
      "Yes    22319\n",
      "Name: appointment_id, dtype: int64\n",
      "20% of the appointments were missed and 80% attended.\n"
     ]
    },
    {
     "data": {
      "image/png": "[encoded data removed]",
      "text/plain": [
       "<Figure size 432x288 with 1 Axes>"
      ]
     },
     "metadata": {},
     "output_type": "display_data"
    }
   ],
   "source": [
    "plots('no_show', 'bar')\n",
    "print('{}% of the appointments were missed and {}% attended.'.format(missed, not_missed))"
   ]
  },
  {
   "cell_type": "markdown",
   "id": "6f82cafc",
   "metadata": {},
   "source": [
    "we can see that 80% patients attended their appointment and only 20% missed their appointment "
   ]
  },
  {
   "cell_type": "code",
   "execution_count": 32,
   "id": "78b7a283",
   "metadata": {
    "scrolled": true
   },
   "outputs": [
    {
     "data": {
      "text/plain": [
       "Text(0, 0.5, 'appointment count')"
      ]
     },
     "execution_count": 32,
     "metadata": {},
     "output_type": "execute_result"
    },
    {
     "data": {
      "image/png": "[encoded data removed]",
      "text/plain": [
       "<Figure size 432x288 with 1 Axes>"
      ]
     },
     "metadata": {},
     "output_type": "display_data"
    }
   ],
   "source": [
    "show_up['age'].plot(kind = 'hist', title = 'age group for patient show_up')\n",
    "plt.xlabel('age', fontsize=10)\n",
    "plt.ylabel('appointment count', fontsize=10)"
   ]
  },
  {
   "cell_type": "code",
   "execution_count": 33,
   "id": "5969b174",
   "metadata": {},
   "outputs": [
    {
     "data": {
      "text/plain": [
       "Text(0, 0.5, 'appointment count')"
      ]
     },
     "execution_count": 33,
     "metadata": {},
     "output_type": "execute_result"
    },
    {
     "data": {
      "image/png": "[encoded data removed]",
      "text/plain": [
       "<Figure size 432x288 with 1 Axes>"
      ]
     },
     "metadata": {},
     "output_type": "display_data"
    }
   ],
   "source": [
    "no_show_up['age'].plot(kind = 'hist', title = 'age group for patient no_show_up')\n",
    "plt.xlabel('age', fontsize=10)\n",
    "plt.ylabel('appointment count', fontsize=10)"
   ]
  },
  {
   "cell_type": "markdown",
   "id": "a3661e38",
   "metadata": {},
   "source": [
    "The charts above shows us the age group of patients that showed up / didnt show up for their appointment"
   ]
  },
  {
   "cell_type": "code",
   "execution_count": 34,
   "id": "eb620b76",
   "metadata": {},
   "outputs": [
    {
     "name": "stdout",
     "output_type": "stream",
     "text": [
      "sms_received\n",
      "False    75044\n",
      "True     35482\n",
      "Name: appointment_id, dtype: int64\n"
     ]
    },
    {
     "data": {
      "image/png": "[encoded data removed]",
      "text/plain": [
       "<Figure size 432x288 with 1 Axes>"
      ]
     },
     "metadata": {},
     "output_type": "display_data"
    }
   ],
   "source": [
    "plots('sms_received', 'bar')"
   ]
  },
  {
   "cell_type": "markdown",
   "id": "85647a24",
   "metadata": {},
   "source": [
    "From the bar chart above, it shows that most patients didnt recieve sms messages"
   ]
  },
  {
   "cell_type": "code",
   "execution_count": 35,
   "id": "a133cbb8",
   "metadata": {},
   "outputs": [
    {
     "data": {
      "image/png": "[encoded data removed]",
      "text/plain": [
       "<Figure size 432x288 with 1 Axes>"
      ]
     },
     "metadata": {},
     "output_type": "display_data"
    }
   ],
   "source": [
    "ax= sns.countplot(x ='sms_received', hue = \"no_show\",palette=['r', 'w'], data = no_show_a)\n",
    "ax.set_title('sms_recieved distribution for show/no_show appointment');"
   ]
  },
  {
   "cell_type": "code",
   "execution_count": 36,
   "id": "443a0742",
   "metadata": {},
   "outputs": [
    {
     "data": {
      "image/png": "[encoded data removed]",
      "text/plain": [
       "<Figure size 432x288 with 1 Axes>"
      ]
     },
     "metadata": {},
     "output_type": "display_data"
    }
   ],
   "source": [
    "count_sms = no_show_a.groupby(['sms_received', 'no_show'])['appointment_id'].count()\n",
    "total_sms = no_show_a.groupby(['sms_received'])['appointment_id'].count()\n",
    "colors = ['red','white']\n",
    "proportions = count_gender / total_gender\n",
    "proportions.plot(kind='bar', title='Proportion of sms_recieved for show/no_show appointment', color=colors, alpha=.7);\n",
    "plt.xlabel('Gender', fontsize=12)\n",
    "plt.ylabel('Proportion', fontsize=12);"
   ]
  },
  {
   "cell_type": "markdown",
   "id": "b3b4b36b",
   "metadata": {},
   "source": [
    "From this chart;\n",
    "- (False, No) means patients who did not recieve sms but showed up \n",
    "- (False, Yes) means patients who did not recieve sms but didnt show up \n",
    "- (True, No)means patients who recieved sms but showed up\n",
    "- (True, Yes) means patients who recieved sms but didnt show up\n",
    "- This plot shows that most patients showed up for their appointment whether they recieved SMS or not."
   ]
  },
  {
   "cell_type": "markdown",
   "id": "dc36c7ae",
   "metadata": {},
   "source": [
    "## CONCLUSIONS"
   ]
  },
  {
   "cell_type": "markdown",
   "id": "f864db8f",
   "metadata": {},
   "source": [
    "**Results:** From the analysis above, we can conclude that:\n",
    "- Babies from ages (0-1) were sceduled for an appointment\n",
    "- More females were scheduled for an appointment\n",
    "- When comparing the gender distribution of patients who attended their appointments with those who did not, there is not a significant difference.\n",
    "- There is no significant difference in the age distribution of patients who attended the appointment versus the patients who did not attend the appointment.\n",
    "- 80% of patients attended their appointment\n",
    "- There is a higher percentage of patients who did not recieve an SMS but did show up than people  who recieved an SMS but did  show up"
   ]
  },
  {
   "cell_type": "markdown",
   "id": "91cc7c73",
   "metadata": {},
   "source": [
    "**Limitations:**\n",
    "- cannot show strong correlations between factors since most of our data is categorical.\n",
    "- The statistics used here are descriptive statistics, not inferential, meaning that we did not create any hypotheses or controlled experiments or inferences with our data\n",
    "- Most of our variables are categorical, which does not allow for a high level of statistical method that can be used to provide correlations "
   ]
  }
 ],
 "metadata": {
  "kernelspec": {
   "display_name": "Python 3 (ipykernel)",
   "language": "python",
   "name": "python3"
  },
  "language_info": {
   "codemirror_mode": {
    "name": "ipython",
    "version": 3
   },
   "file_extension": ".py",
   "mimetype": "text/x-python",
   "name": "python",
   "nbconvert_exporter": "python",
   "pygments_lexer": "ipython3",
   "version": "3.9.12"
  }
 },
 "nbformat": 4,
 "nbformat_minor": 5
}
